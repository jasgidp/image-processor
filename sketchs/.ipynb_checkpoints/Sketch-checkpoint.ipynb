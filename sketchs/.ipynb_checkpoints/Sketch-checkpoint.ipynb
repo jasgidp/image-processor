{
 "cells": [
  {
   "cell_type": "code",
   "execution_count": 5,
   "id": "3011fd96-5723-443a-9582-5d7206f8c419",
   "metadata": {},
   "outputs": [
    {
     "name": "stdout",
     "output_type": "stream",
     "text": [
      "Collecting opencv-python\n",
      "  Downloading opencv_python-4.10.0.84-cp37-abi3-macosx_11_0_arm64.whl.metadata (20 kB)\n",
      "Collecting numpy>=1.21.2 (from opencv-python)\n",
      "  Downloading numpy-2.2.1-cp313-cp313-macosx_14_0_arm64.whl.metadata (62 kB)\n",
      "Downloading opencv_python-4.10.0.84-cp37-abi3-macosx_11_0_arm64.whl (54.8 MB)\n",
      "\u001b[2K   \u001b[90m━━━━━━━━━━━━━━━━━━━━━━━━━━━━━━━━━━━━━━━━\u001b[0m \u001b[32m54.8/54.8 MB\u001b[0m \u001b[31m1.5 MB/s\u001b[0m eta \u001b[36m0:00:00\u001b[0m00:01\u001b[0m00:02\u001b[0m\n",
      "Downloading numpy-2.2.1-cp313-cp313-macosx_14_0_arm64.whl (5.1 MB)\n",
      "\u001b[2K   \u001b[90m━━━━━━━━━━━━━━━━━━━━━━━━━━━━━━━━━━━━━━━━\u001b[0m \u001b[32m5.1/5.1 MB\u001b[0m \u001b[31m1.0 MB/s\u001b[0m eta \u001b[36m0:00:00\u001b[0ma \u001b[36m0:00:01\u001b[0m0m\n",
      "Installing collected packages: numpy, opencv-python\n",
      "Successfully installed numpy-2.2.1 opencv-python-4.10.0.84\n",
      "Note: you may need to restart the kernel to use updated packages.\n"
     ]
    }
   ],
   "source": [
    "pip install opencv-python"
   ]
  },
  {
   "cell_type": "code",
   "execution_count": 21,
   "id": "77d7ac87-6afb-41fd-af21-bf59d9ebfcf8",
   "metadata": {},
   "outputs": [],
   "source": [
    "import cv2\n",
    "name = \"donna3\"\n",
    "\n",
    "image = cv2.imread(f\"{name}.jpeg\")\n",
    "grayimage = cv2.cvtColor(image, cv2.COLOR_BGR2GRAY)\n",
    "inverted = 255 - grayimage\n",
    "blur = cv2.GaussianBlur(inverted, (41, 41), 0)\n",
    "invertedblur = 255 - blur\n",
    "sketch = cv2.divide(grayimage, invertedblur, scale=256.0)\n",
    "\n",
    "cv2.imwrite(f\"{name}2.0.png\", sketch)\n",
    "cv2.imshow(\"Image\", sketch)"
   ]
  },
  {
   "cell_type": "code",
   "execution_count": null,
   "id": "a21e2d4f-46da-41e7-a86d-d2a03d558447",
   "metadata": {},
   "outputs": [],
   "source": []
  },
  {
   "cell_type": "code",
   "execution_count": 6,
   "id": "e0ca74f3-5ebb-495d-a25a-db125ca2b085",
   "metadata": {},
   "outputs": [
    {
     "name": "stdout",
     "output_type": "stream",
     "text": [
      "Name: opencv-python\n",
      "Version: 4.10.0.84\n",
      "Summary: Wrapper package for OpenCV python bindings.\n",
      "Home-page: https://github.com/opencv/opencv-python\n",
      "Author: \n",
      "Author-email: \n",
      "License: Apache 2.0\n",
      "Location: /Users/jonathan.sandoval/.local/pipx/venvs/notebook/lib/python3.13/site-packages\n",
      "Requires: numpy\n",
      "Required-by: \n",
      "Note: you may need to restart the kernel to use updated packages.\n"
     ]
    }
   ],
   "source": [
    "pip show opencv-python"
   ]
  },
  {
   "cell_type": "code",
   "execution_count": null,
   "id": "117449c2-37e9-4808-a17b-1fbf16726a00",
   "metadata": {},
   "outputs": [],
   "source": []
  }
 ],
 "metadata": {
  "kernelspec": {
   "display_name": "Python 3 (ipykernel)",
   "language": "python",
   "name": "python3"
  },
  "language_info": {
   "codemirror_mode": {
    "name": "ipython",
    "version": 3
   },
   "file_extension": ".py",
   "mimetype": "text/x-python",
   "name": "python",
   "nbconvert_exporter": "python",
   "pygments_lexer": "ipython3",
   "version": "3.13.1"
  }
 },
 "nbformat": 4,
 "nbformat_minor": 5
}
